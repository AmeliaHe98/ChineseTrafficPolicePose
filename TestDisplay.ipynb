{
 "cells": [
  {
   "cell_type": "code",
   "execution_count": 1,
   "metadata": {},
   "outputs": [],
   "source": [
    "import cv2\n",
    "from matplotlib import pyplot as plt\n",
    "\n",
    "import label_loader\n",
    "import bidirectional_resize as bir\n",
    "import numpy as np\n"
   ]
  },
  {
   "cell_type": "code",
   "execution_count": 2,
   "metadata": {},
   "outputs": [
    {
     "name": "stdout",
     "output_type": "stream",
     "text": [
      "Read labels from cache\n"
     ]
    }
   ],
   "source": [
    "llist = label_loader.load_aicha_to_list(\"/media/zc/Ext4-1TB/AI_challenger_keypoint\")\n",
    "l = llist[0]\n",
    "path, anno = l"
   ]
  },
  {
   "cell_type": "code",
   "execution_count": 5,
   "metadata": {},
   "outputs": [],
   "source": [
    "img = cv2.imread(path)\n",
    "img = cv2.cvtColor(img, cv2.COLOR_BGR2RGB)\n",
    "r_img, rec = bir.resize_img(img, (512, 512))\n",
    "\n",
    "\n",
    "\n",
    "label_loader.anno_resize(anno, (512, 512), rec)\n",
    "jwh = label_loader.heatmap_label(anno, (512, 512), 8)\n",
    "\n"
   ]
  },
  {
   "cell_type": "code",
   "execution_count": 4,
   "metadata": {
    "scrolled": true
   },
   "outputs": [
    {
     "name": "stderr",
     "output_type": "stream",
     "text": [
      "Clipping input data to the valid range for imshow with RGB data ([0..1] for floats or [0..255] for integers).\n"
     ]
    },
    {
     "data": {
      "text/plain": [
       "<matplotlib.image.AxesImage at 0x7f98ef08c2b0>"
      ]
     },
     "execution_count": 4,
     "metadata": {},
     "output_type": "execute_result"
    }
   ],
   "source": [
    "%matplotlib tk\n",
    "plt.figure(figsize=(20,10))\n",
    "heat_overlay = cv2.resize(jwh[0], (512, 512))\n",
    "plt.subplot(1,3,1)\n",
    "plt.imshow(r_img)\n",
    "plt.subplot(1,3,2)\n",
    "plt.imshow(jwh[0])\n",
    "\n",
    "heat_overlay = heat_overlay*255\n",
    "heat_overlay = heat_overlay.astype(np.int8)\n",
    "heat_overlay = heat_overlay[...,np.newaxis]\n",
    "heat_overlay = heat_overlay + r_img\n",
    "plt.subplot(1,3,3)\n",
    "plt.imshow(heat_overlay)"
   ]
  },
  {
   "cell_type": "code",
   "execution_count": null,
   "metadata": {},
   "outputs": [],
   "source": []
  }
 ],
 "metadata": {
  "kernelspec": {
   "display_name": "Python 3",
   "language": "python",
   "name": "python3"
  },
  "language_info": {
   "codemirror_mode": {
    "name": "ipython",
    "version": 3
   },
   "file_extension": ".py",
   "mimetype": "text/x-python",
   "name": "python",
   "nbconvert_exporter": "python",
   "pygments_lexer": "ipython3",
   "version": "3.6.7"
  }
 },
 "nbformat": 4,
 "nbformat_minor": 2
}
